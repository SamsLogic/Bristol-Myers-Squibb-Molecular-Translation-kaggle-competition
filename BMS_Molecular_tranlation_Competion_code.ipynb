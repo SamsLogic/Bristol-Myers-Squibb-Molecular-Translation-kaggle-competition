{
  "nbformat": 4,
  "nbformat_minor": 0,
  "metadata": {
    "accelerator": "GPU",
    "colab": {
      "name": "BMS Molecular tranlation Competion code",
      "provenance": [],
      "collapsed_sections": [],
      "machine_shape": "hm"
    },
    "kernelspec": {
      "display_name": "Python 3",
      "language": "python",
      "name": "python3"
    },
    "language_info": {
      "codemirror_mode": {
        "name": "ipython",
        "version": 3
      },
      "file_extension": ".py",
      "mimetype": "text/x-python",
      "name": "python",
      "nbconvert_exporter": "python",
      "pygments_lexer": "ipython3",
      "version": "3.7.9"
    }
  },
  "cells": [
    {
      "cell_type": "code",
      "metadata": {
        "id": "WLuwmItdX6kU"
      },
      "source": [
        "#from google.colab import auth\n",
        "#auth.authenticate_user()"
      ],
      "execution_count": null,
      "outputs": []
    },
    {
      "cell_type": "code",
      "metadata": {
        "colab": {
          "base_uri": "https://localhost:8080/"
        },
        "id": "vJdm2U0EogXs",
        "outputId": "1de572d2-4be2-4531-e127-ff60e5d18188"
      },
      "source": [
        "!nvidia-smi"
      ],
      "execution_count": null,
      "outputs": [
        {
          "output_type": "stream",
          "text": [
            "Wed May 26 05:05:28 2021       \n",
            "+-----------------------------------------------------------------------------+\n",
            "| NVIDIA-SMI 465.19.01    Driver Version: 460.32.03    CUDA Version: 11.2     |\n",
            "|-------------------------------+----------------------+----------------------+\n",
            "| GPU  Name        Persistence-M| Bus-Id        Disp.A | Volatile Uncorr. ECC |\n",
            "| Fan  Temp  Perf  Pwr:Usage/Cap|         Memory-Usage | GPU-Util  Compute M. |\n",
            "|                               |                      |               MIG M. |\n",
            "|===============================+======================+======================|\n",
            "|   0  Tesla P100-PCIE...  Off  | 00000000:00:04.0 Off |                    0 |\n",
            "| N/A   48C    P0    29W / 250W |      0MiB / 16280MiB |      0%      Default |\n",
            "|                               |                      |                  N/A |\n",
            "+-------------------------------+----------------------+----------------------+\n",
            "                                                                               \n",
            "+-----------------------------------------------------------------------------+\n",
            "| Processes:                                                                  |\n",
            "|  GPU   GI   CI        PID   Type   Process name                  GPU Memory |\n",
            "|        ID   ID                                                   Usage      |\n",
            "|=============================================================================|\n",
            "|  No running processes found                                                 |\n",
            "+-----------------------------------------------------------------------------+\n"
          ],
          "name": "stdout"
        }
      ]
    },
    {
      "cell_type": "code",
      "metadata": {
        "colab": {
          "base_uri": "https://localhost:8080/"
        },
        "id": "HjB6lBj7vStV",
        "outputId": "0e3f05cf-608e-4ae3-e124-44ed9ba76484"
      },
      "source": [
        "from google.colab import drive\n",
        "drive.mount('/content/drive')"
      ],
      "execution_count": null,
      "outputs": [
        {
          "output_type": "stream",
          "text": [
            "Mounted at /content/drive\n"
          ],
          "name": "stdout"
        }
      ]
    },
    {
      "cell_type": "code",
      "metadata": {
        "id": "mxOuA7qPazMo"
      },
      "source": [
        "!mkdir train\n",
        "!unzip '/content/drive/MyDrive/bms-molecular-translation/train.zip' -d '/content/train'"
      ],
      "execution_count": null,
      "outputs": []
    },
    {
      "cell_type": "code",
      "metadata": {
        "id": "HL5_uareuobm"
      },
      "source": [
        "import pandas as pd\n",
        "import numpy as np\n",
        "\n",
        "import tensorflow as tf\n",
        "import tensorflow.keras.models as M\n",
        "import tensorflow.keras.layers as L\n",
        "import tensorflow.keras.optimizers as O\n",
        "import tensorflow.keras.losses as Loss\n",
        "\n",
        "from tqdm import tqdm\n",
        "\n",
        "from PIL import Image\n",
        "import cv2\n",
        "\n",
        "import matplotlib.pyplot as plt\n",
        "\n",
        "from datetime import date\n",
        "import keras.backend as K"
      ],
      "execution_count": null,
      "outputs": []
    },
    {
      "cell_type": "code",
      "metadata": {
        "colab": {
          "base_uri": "https://localhost:8080/",
          "height": 36
        },
        "id": "mNpLbzdEoYHS",
        "outputId": "fb52a7f8-43f6-48de-df85-a5343c844616"
      },
      "source": [
        "tf.__version__"
      ],
      "execution_count": null,
      "outputs": [
        {
          "output_type": "execute_result",
          "data": {
            "application/vnd.google.colaboratory.intrinsic+json": {
              "type": "string"
            },
            "text/plain": [
              "'2.5.0'"
            ]
          },
          "metadata": {
            "tags": []
          },
          "execution_count": 2
        }
      ]
    },
    {
      "cell_type": "code",
      "metadata": {
        "colab": {
          "base_uri": "https://localhost:8080/"
        },
        "id": "VekhtnrjuMqm",
        "outputId": "d572407f-e10b-4fce-c2b1-fe56de840ac9"
      },
      "source": [
        "tf.config.list_physical_devices()"
      ],
      "execution_count": null,
      "outputs": [
        {
          "output_type": "execute_result",
          "data": {
            "text/plain": [
              "[PhysicalDevice(name='/physical_device:CPU:0', device_type='CPU'),\n",
              " PhysicalDevice(name='/physical_device:GPU:0', device_type='GPU')]"
            ]
          },
          "metadata": {
            "tags": []
          },
          "execution_count": 3
        }
      ]
    },
    {
      "cell_type": "code",
      "metadata": {
        "colab": {
          "base_uri": "https://localhost:8080/"
        },
        "id": "XNIeyIQKuobp",
        "outputId": "5cb0846e-e574-4fdf-bb4d-9b12f276ed87"
      },
      "source": [
        "gpus = tf.config.list_physical_devices('GPU')\n",
        "if gpus:\n",
        "  # Restrict TensorFlow to only allocate 1GB of memory on the first GPU\n",
        "  try:\n",
        "    tf.config.experimental.set_virtual_device_configuration(\n",
        "        gpus[0],\n",
        "        [tf.config.experimental.VirtualDeviceConfiguration(memory_limit=16280)])\n",
        "    logical_gpus = tf.config.experimental.list_logical_devices('GPU')\n",
        "    print(len(gpus), \"Physical GPUs,\", len(logical_gpus), \"Logical GPUs\")\n",
        "  except RuntimeError as e:\n",
        "    # Virtual devices must be set before GPUs have been initialized\n",
        "    print(e)\n"
      ],
      "execution_count": null,
      "outputs": [
        {
          "output_type": "stream",
          "text": [
            "1 Physical GPUs, 1 Logical GPUs\n"
          ],
          "name": "stdout"
        }
      ]
    },
    {
      "cell_type": "code",
      "metadata": {
        "id": "ZSiWHdpVuobv"
      },
      "source": [
        "train_path = 'train/'"
      ],
      "execution_count": null,
      "outputs": []
    },
    {
      "cell_type": "code",
      "metadata": {
        "id": "XpKxiC0Muobw"
      },
      "source": [
        "labels = pd.read_csv(\"train/_labels.csv\")"
      ],
      "execution_count": null,
      "outputs": []
    },
    {
      "cell_type": "code",
      "metadata": {
        "colab": {
          "base_uri": "https://localhost:8080/",
          "height": 424
        },
        "id": "GTdukAoWeyKt",
        "outputId": "666267fe-9bbb-4944-a4fc-53eda09a44ba"
      },
      "source": [
        "labels"
      ],
      "execution_count": null,
      "outputs": [
        {
          "output_type": "execute_result",
          "data": {
            "text/html": [
              "<div>\n",
              "<style scoped>\n",
              "    .dataframe tbody tr th:only-of-type {\n",
              "        vertical-align: middle;\n",
              "    }\n",
              "\n",
              "    .dataframe tbody tr th {\n",
              "        vertical-align: top;\n",
              "    }\n",
              "\n",
              "    .dataframe thead th {\n",
              "        text-align: right;\n",
              "    }\n",
              "</style>\n",
              "<table border=\"1\" class=\"dataframe\">\n",
              "  <thead>\n",
              "    <tr style=\"text-align: right;\">\n",
              "      <th></th>\n",
              "      <th>image_id</th>\n",
              "      <th>InChI</th>\n",
              "    </tr>\n",
              "  </thead>\n",
              "  <tbody>\n",
              "    <tr>\n",
              "      <th>0</th>\n",
              "      <td>000011a64c74</td>\n",
              "      <td>InChI=1S/C13H20OS/c1-9(2)8-15-13-6-5-10(3)7-12...</td>\n",
              "    </tr>\n",
              "    <tr>\n",
              "      <th>1</th>\n",
              "      <td>000019cc0cd2</td>\n",
              "      <td>InChI=1S/C21H30O4/c1-12(22)25-14-6-8-20(2)13(1...</td>\n",
              "    </tr>\n",
              "    <tr>\n",
              "      <th>2</th>\n",
              "      <td>0000252b6d2b</td>\n",
              "      <td>InChI=1S/C24H23N5O4/c1-14-13-15(7-8-17(14)28-1...</td>\n",
              "    </tr>\n",
              "    <tr>\n",
              "      <th>3</th>\n",
              "      <td>000026b49b7e</td>\n",
              "      <td>InChI=1S/C17H24N2O4S/c1-12(20)18-13(14-7-6-10-...</td>\n",
              "    </tr>\n",
              "    <tr>\n",
              "      <th>4</th>\n",
              "      <td>000026fc6c36</td>\n",
              "      <td>InChI=1S/C10H19N3O2S/c1-15-10(14)12-8-4-6-13(7...</td>\n",
              "    </tr>\n",
              "    <tr>\n",
              "      <th>...</th>\n",
              "      <td>...</td>\n",
              "      <td>...</td>\n",
              "    </tr>\n",
              "    <tr>\n",
              "      <th>2424181</th>\n",
              "      <td>ffffe824f539</td>\n",
              "      <td>InChI=1S/C10H12F2N2O3/c1-17-7-2-5(3-8(15)16)9(...</td>\n",
              "    </tr>\n",
              "    <tr>\n",
              "      <th>2424182</th>\n",
              "      <td>ffffea1ebdfa</td>\n",
              "      <td>InChI=1S/C19H20F2N4O3S/c1-10(8-20)28-14-7-12(2...</td>\n",
              "    </tr>\n",
              "    <tr>\n",
              "      <th>2424183</th>\n",
              "      <td>ffffee2b4534</td>\n",
              "      <td>InChI=1S/C22H26Cl2N2O4S/c1-16-6-2-3-10-21(16)3...</td>\n",
              "    </tr>\n",
              "    <tr>\n",
              "      <th>2424184</th>\n",
              "      <td>fffff0b6eea6</td>\n",
              "      <td>InChI=1S/C17H26N2O6S/c1-23-16-12-14(4-5-15(16)...</td>\n",
              "    </tr>\n",
              "    <tr>\n",
              "      <th>2424185</th>\n",
              "      <td>fffff608dd38</td>\n",
              "      <td>InChI=1S/C10H18N2O9P2/c1-7-10(13)9(5-11-2-3-20...</td>\n",
              "    </tr>\n",
              "  </tbody>\n",
              "</table>\n",
              "<p>2424186 rows × 2 columns</p>\n",
              "</div>"
            ],
            "text/plain": [
              "             image_id                                              InChI\n",
              "0        000011a64c74  InChI=1S/C13H20OS/c1-9(2)8-15-13-6-5-10(3)7-12...\n",
              "1        000019cc0cd2  InChI=1S/C21H30O4/c1-12(22)25-14-6-8-20(2)13(1...\n",
              "2        0000252b6d2b  InChI=1S/C24H23N5O4/c1-14-13-15(7-8-17(14)28-1...\n",
              "3        000026b49b7e  InChI=1S/C17H24N2O4S/c1-12(20)18-13(14-7-6-10-...\n",
              "4        000026fc6c36  InChI=1S/C10H19N3O2S/c1-15-10(14)12-8-4-6-13(7...\n",
              "...               ...                                                ...\n",
              "2424181  ffffe824f539  InChI=1S/C10H12F2N2O3/c1-17-7-2-5(3-8(15)16)9(...\n",
              "2424182  ffffea1ebdfa  InChI=1S/C19H20F2N4O3S/c1-10(8-20)28-14-7-12(2...\n",
              "2424183  ffffee2b4534  InChI=1S/C22H26Cl2N2O4S/c1-16-6-2-3-10-21(16)3...\n",
              "2424184  fffff0b6eea6  InChI=1S/C17H26N2O6S/c1-23-16-12-14(4-5-15(16)...\n",
              "2424185  fffff608dd38  InChI=1S/C10H18N2O9P2/c1-7-10(13)9(5-11-2-3-20...\n",
              "\n",
              "[2424186 rows x 2 columns]"
            ]
          },
          "metadata": {
            "tags": []
          },
          "execution_count": 7
        }
      ]
    },
    {
      "cell_type": "code",
      "metadata": {
        "colab": {
          "base_uri": "https://localhost:8080/",
          "height": 224
        },
        "id": "apVS6ZVmKtoa",
        "outputId": "4434b78f-b643-4839-cff0-cb9d07cc8f77"
      },
      "source": [
        "for i in tqdm(range(len(labels))):\n",
        "    labels.InChI.values[i] = labels.InChI.values[i][9:]\n",
        "    labels.InChI.values[i] = '#'+labels.InChI.values[i] + '$'\n",
        "    image_id = labels.image_id.values[i]\n",
        "    labels.image_id.values[i] = train_path+image_id[0]+'/'+image_id[1]+'/'+image_id[2]+'/'+image_id+'.png'\n",
        "labels.head()"
      ],
      "execution_count": null,
      "outputs": [
        {
          "output_type": "stream",
          "text": [
            "100%|██████████| 2424186/2424186 [01:42<00:00, 23644.72it/s]\n"
          ],
          "name": "stderr"
        },
        {
          "output_type": "execute_result",
          "data": {
            "text/html": [
              "<div>\n",
              "<style scoped>\n",
              "    .dataframe tbody tr th:only-of-type {\n",
              "        vertical-align: middle;\n",
              "    }\n",
              "\n",
              "    .dataframe tbody tr th {\n",
              "        vertical-align: top;\n",
              "    }\n",
              "\n",
              "    .dataframe thead th {\n",
              "        text-align: right;\n",
              "    }\n",
              "</style>\n",
              "<table border=\"1\" class=\"dataframe\">\n",
              "  <thead>\n",
              "    <tr style=\"text-align: right;\">\n",
              "      <th></th>\n",
              "      <th>image_id</th>\n",
              "      <th>InChI</th>\n",
              "    </tr>\n",
              "  </thead>\n",
              "  <tbody>\n",
              "    <tr>\n",
              "      <th>0</th>\n",
              "      <td>train/0/0/0/000011a64c74.png</td>\n",
              "      <td>#C13H20OS/c1-9(2)8-15-13-6-5-10(3)7-12(13)11(4...</td>\n",
              "    </tr>\n",
              "    <tr>\n",
              "      <th>1</th>\n",
              "      <td>train/0/0/0/000019cc0cd2.png</td>\n",
              "      <td>#C21H30O4/c1-12(22)25-14-6-8-20(2)13(10-14)11-...</td>\n",
              "    </tr>\n",
              "    <tr>\n",
              "      <th>2</th>\n",
              "      <td>train/0/0/0/0000252b6d2b.png</td>\n",
              "      <td>#C24H23N5O4/c1-14-13-15(7-8-17(14)28-12-10-20(...</td>\n",
              "    </tr>\n",
              "    <tr>\n",
              "      <th>3</th>\n",
              "      <td>train/0/0/0/000026b49b7e.png</td>\n",
              "      <td>#C17H24N2O4S/c1-12(20)18-13(14-7-6-10-24-14)11...</td>\n",
              "    </tr>\n",
              "    <tr>\n",
              "      <th>4</th>\n",
              "      <td>train/0/0/0/000026fc6c36.png</td>\n",
              "      <td>#C10H19N3O2S/c1-15-10(14)12-8-4-6-13(7-8)5-2-3...</td>\n",
              "    </tr>\n",
              "  </tbody>\n",
              "</table>\n",
              "</div>"
            ],
            "text/plain": [
              "                       image_id                                              InChI\n",
              "0  train/0/0/0/000011a64c74.png  #C13H20OS/c1-9(2)8-15-13-6-5-10(3)7-12(13)11(4...\n",
              "1  train/0/0/0/000019cc0cd2.png  #C21H30O4/c1-12(22)25-14-6-8-20(2)13(10-14)11-...\n",
              "2  train/0/0/0/0000252b6d2b.png  #C24H23N5O4/c1-14-13-15(7-8-17(14)28-12-10-20(...\n",
              "3  train/0/0/0/000026b49b7e.png  #C17H24N2O4S/c1-12(20)18-13(14-7-6-10-24-14)11...\n",
              "4  train/0/0/0/000026fc6c36.png  #C10H19N3O2S/c1-15-10(14)12-8-4-6-13(7-8)5-2-3..."
            ]
          },
          "metadata": {
            "tags": []
          },
          "execution_count": 8
        }
      ]
    },
    {
      "cell_type": "code",
      "metadata": {
        "colab": {
          "base_uri": "https://localhost:8080/"
        },
        "id": "FvOF8wTtHd_r",
        "outputId": "3de254b0-005c-40af-c3d0-3c92bcd8c07c"
      },
      "source": [
        "labels.InChI.values[:10]"
      ],
      "execution_count": null,
      "outputs": [
        {
          "output_type": "execute_result",
          "data": {
            "text/plain": [
              "array(['#C13H20OS/c1-9(2)8-15-13-6-5-10(3)7-12(13)11(4)14/h5-7,9,11,14H,8H2,1-4H3$',\n",
              "       '#C21H30O4/c1-12(22)25-14-6-8-20(2)13(10-14)11-17(23)19-15-4-5-18(24)21(15,3)9-7-16(19)20/h13-16,19H,4-11H2,1-3H3/t13-,14+,15+,16-,19-,20+,21+/m1/s1$',\n",
              "       '#C24H23N5O4/c1-14-13-15(7-8-17(14)28-12-10-20(28)30)27-11-9-16-21(23(25)31)26-29(22(16)24(27)32)18-5-3-4-6-19(18)33-2/h3-8,13H,9-12H2,1-2H3,(H2,25,31)$',\n",
              "       '#C17H24N2O4S/c1-12(20)18-13(14-7-6-10-24-14)11-15(21)19-17(16(22)23)8-4-2-3-5-9-17/h6-7,10,13H,2-5,8-9,11H2,1H3,(H,18,20)(H,19,21)(H,22,23)$',\n",
              "       '#C10H19N3O2S/c1-15-10(14)12-8-4-6-13(7-8)5-2-3-9(11)16/h8H,2-7H2,1H3,(H2,11,16)(H,12,14)$',\n",
              "       '#C19H22Br2N2O2/c1-13(2)10-16(19(24)25)23(9-8-14-6-4-3-5-7-14)15-11-17(20)22-18(21)12-15/h3-7,11-13,16H,8-10H2,1-2H3,(H,24,25)$',\n",
              "       '#C17H10BrN3O/c18-14-7-3-1-5-11(14)9-12(10-19)16-20-15-8-4-2-6-13(15)17(22)21-16/h1-9,13H/b12-9+$',\n",
              "       '#C21H21N5O2S/c1-15-7-8-18(17-5-4-11-22-20(15)17)29(27,28)25-13-9-16(10-14-25)21-24-23-19-6-2-3-12-26(19)21/h2-8,11-12,16H,9-10,13-14H2,1H3$',\n",
              "       '#C13H18N2O5S/c1-4-10(13(17)18)15-12(16)9-5-7(2)8(3)11(6-9)21(14,19)20/h5-6,10H,4H2,1-3H3,(H,15,16)(H,17,18)(H2,14,19,20)$',\n",
              "       '#C13H15BrN2O3/c1-7-5-15-6-9(7)12(17)16-11-3-2-8(13(18)19)4-10(11)14/h2-4,7,9,15H,5-6H2,1H3,(H,16,17)(H,18,19)/t7-,9-/m1/s1$'],\n",
              "      dtype=object)"
            ]
          },
          "metadata": {
            "tags": []
          },
          "execution_count": 9
        }
      ]
    },
    {
      "cell_type": "code",
      "metadata": {
        "id": "4sTveJYlzzV4"
      },
      "source": [
        "top_words = 100\n",
        "tokenizer = tf.keras.preprocessing.text.Tokenizer(num_words = top_words,oov_token='<unk>',filters='!\"%&*.:;=?@[\\]^_`{|}~ ',char_level=False)"
      ],
      "execution_count": null,
      "outputs": []
    },
    {
      "cell_type": "code",
      "metadata": {
        "id": "0uw8zB72-BpV"
      },
      "source": [
        "tokenizer.fit_on_texts(labels.InChI.values)"
      ],
      "execution_count": null,
      "outputs": []
    },
    {
      "cell_type": "code",
      "metadata": {
        "id": "TXJGZoPn1Txd"
      },
      "source": [
        "tokenizer.word_index['<pad>'] = 0\n",
        "tokenizer.index_word[0] = '<pad>'"
      ],
      "execution_count": null,
      "outputs": []
    },
    {
      "cell_type": "code",
      "metadata": {
        "id": "kRVpJBhp1TuH"
      },
      "source": [
        "tokenized_text = tokenizer.texts_to_sequences(list(labels.InChI.values))\n",
        "padded_tokenized_text = tf.keras.preprocessing.sequence.pad_sequences(tokenized_text,padding='post')"
      ],
      "execution_count": null,
      "outputs": []
    },
    {
      "cell_type": "code",
      "metadata": {
        "colab": {
          "base_uri": "https://localhost:8080/"
        },
        "id": "yITWkJW-1ToH",
        "outputId": "ed246b59-3679-4134-c3d6-72ea80211db4"
      },
      "source": [
        "print(tokenized_text[0],labels.InChI.values[0])"
      ],
      "execution_count": null,
      "outputs": [
        {
          "output_type": "stream",
          "text": [
            "[19, 18, 2, 5, 9, 4, 16, 22, 23, 17, 18, 2, 3, 15, 7, 4, 8, 14, 3, 2, 11, 3, 2, 5, 3, 12, 3, 11, 3, 2, 16, 7, 5, 8, 13, 3, 2, 4, 7, 2, 5, 8, 2, 2, 7, 10, 8, 2, 10, 17, 9, 11, 3, 13, 6, 15, 6, 2, 2, 6, 2, 10, 9, 6, 14, 9, 4, 6, 2, 3, 10, 9, 5, 20] #C13H20OS/c1-9(2)8-15-13-6-5-10(3)7-12(13)11(4)14/h5-7,9,11,14H,8H2,1-4H3$\n"
          ],
          "name": "stdout"
        }
      ]
    },
    {
      "cell_type": "code",
      "metadata": {
        "id": "NL4dxugRZrqV"
      },
      "source": [
        "[19, 18, 2, 5, 9, 4, 16, 22, 23, 17, 18, 2, 3, 15, 7, 4, 8, 14, 3, 2, 11, 3, 2, 5, 3, 12, 3, 11, 3, 2, 16, 7, 5, 8, 13, 3, 2, 4, 7, 2, 5, 8, 2, 2, 7, 10, 8, 2, 10, 17, 9, 11, 3, 13, 6, 15, 6, 2, 2, 6, 2, 10, 9, 6, 14, 9, 4, 6, 2, 3, 10, 9, 5, 20]"
      ],
      "execution_count": null,
      "outputs": []
    },
    {
      "cell_type": "code",
      "metadata": {
        "colab": {
          "base_uri": "https://localhost:8080/"
        },
        "id": "1_HX3MLrEkFK",
        "outputId": "ceb5e27c-0865-4299-9b28-b09ebec24a65"
      },
      "source": [
        "print(padded_tokenized_text[0])"
      ],
      "execution_count": null,
      "outputs": [
        {
          "output_type": "stream",
          "text": [
            "[19 18  2  5  9  4 16 22 23 17 18  2  3 15  7  4  8 14  3  2 11  3  2  5\n",
            "  3 12  3 11  3  2 16  7  5  8 13  3  2  4  7  2  5  8  2  2  7 10  8  2\n",
            " 10 17  9 11  3 13  6 15  6  2  2  6  2 10  9  6 14  9  4  6  2  3 10  9\n",
            "  5 20  0  0  0  0  0  0  0  0  0  0  0  0  0  0  0  0  0  0  0  0  0  0\n",
            "  0  0  0  0  0  0  0  0  0  0  0  0  0  0  0  0  0  0  0  0  0  0  0  0\n",
            "  0  0  0  0  0  0  0  0  0  0  0  0  0  0  0  0  0  0  0  0  0  0  0  0\n",
            "  0  0  0  0  0  0  0  0  0  0  0  0  0  0  0  0  0  0  0  0  0  0  0  0\n",
            "  0  0  0  0  0  0  0  0  0  0  0  0  0  0  0  0  0  0  0  0  0  0  0  0\n",
            "  0  0  0  0  0  0  0  0  0  0  0  0  0  0  0  0  0  0  0  0  0  0  0  0\n",
            "  0  0  0  0  0  0  0  0  0  0  0  0  0  0  0  0  0  0  0  0  0  0  0  0\n",
            "  0  0  0  0  0  0  0  0  0  0  0  0  0  0  0  0  0  0  0  0  0  0  0  0\n",
            "  0  0  0  0  0  0  0  0  0  0  0  0  0  0  0  0  0  0  0  0  0  0  0  0\n",
            "  0  0  0  0  0  0  0  0  0  0  0  0  0  0  0  0  0  0  0  0  0  0  0  0\n",
            "  0  0  0  0  0  0  0  0  0  0  0  0  0  0  0  0  0  0  0  0  0  0  0  0\n",
            "  0  0  0  0  0  0  0  0  0  0  0  0  0  0  0  0  0  0  0  0  0  0  0  0\n",
            "  0  0  0  0  0  0  0  0  0  0  0  0  0  0  0  0  0  0  0  0  0  0  0  0\n",
            "  0  0  0  0  0  0  0  0  0  0  0  0]\n"
          ],
          "name": "stdout"
        }
      ]
    },
    {
      "cell_type": "code",
      "metadata": {
        "colab": {
          "base_uri": "https://localhost:8080/"
        },
        "id": "ohmh-XH21Tkq",
        "outputId": "b578ea48-9e24-4f4a-b9b0-2e412e31ec04"
      },
      "source": [
        "def calc_max_length(tensor):\n",
        "    return max(len(t) for t in tensor)\n",
        "\n",
        "max_len = calc_max_length(tokenized_text)\n",
        "print(max_len)"
      ],
      "execution_count": null,
      "outputs": [
        {
          "output_type": "stream",
          "text": [
            "396\n"
          ],
          "name": "stdout"
        }
      ]
    },
    {
      "cell_type": "code",
      "metadata": {
        "id": "4fQc7BDv_CWU"
      },
      "source": [
        "labels = labels[:100000]"
      ],
      "execution_count": null,
      "outputs": []
    },
    {
      "cell_type": "code",
      "metadata": {
        "id": "Sxm33GymAXpl"
      },
      "source": [
        "today = date.today()\n",
        "BATCH_SIZE = 64\n",
        "EPOCHS = 20\n",
        "rnn_units = 512\n",
        "DIM =(100,100)\n",
        "attention_feature_shape = 81\n",
        "features_dim = 512\n",
        "embedding_dim = 256\n",
        "vocab_size = len(tokenizer.word_index)\n",
        "num_steps = len(labels)//BATCH_SIZE"
      ],
      "execution_count": null,
      "outputs": []
    },
    {
      "cell_type": "code",
      "metadata": {
        "id": "5DqncXSauob3"
      },
      "source": [
        "img = cv2.imread(labels.image_id.values[0],cv2.IMREAD_GRAYSCALE)"
      ],
      "execution_count": null,
      "outputs": []
    },
    {
      "cell_type": "code",
      "metadata": {
        "colab": {
          "base_uri": "https://localhost:8080/",
          "height": 287
        },
        "id": "1yzvPan5uob4",
        "outputId": "38203973-059b-48f1-ffac-ab934f436877"
      },
      "source": [
        "plt.imshow(img)\n",
        "#plt.title(labels.InChI.values[0])"
      ],
      "execution_count": null,
      "outputs": [
        {
          "output_type": "execute_result",
          "data": {
            "text/plain": [
              "<matplotlib.image.AxesImage at 0x7effe9f5ef50>"
            ]
          },
          "metadata": {
            "tags": []
          },
          "execution_count": 20
        },
        {
          "output_type": "display_data",
          "data": {
            "image/png": "[encoded data removed]",
            "text/plain": [
              "<Figure size 432x288 with 1 Axes>"
            ]
          },
          "metadata": {
            "tags": [],
            "needs_background": "light"
          }
        }
      ]
    },
    {
      "cell_type": "code",
      "metadata": {
        "colab": {
          "base_uri": "https://localhost:8080/"
        },
        "id": "74LpXeVIsurd",
        "outputId": "ce667086-28cc-4f70-d886-6837289c2ca7"
      },
      "source": [
        "split_percentage = 1\n",
        "\n",
        "split = len(labels) - int(len(labels)/100)*(split_percentage)\n",
        "print(split)"
      ],
      "execution_count": null,
      "outputs": [
        {
          "output_type": "stream",
          "text": [
            "99000\n"
          ],
          "name": "stdout"
        }
      ]
    },
    {
      "cell_type": "code",
      "metadata": {
        "colab": {
          "base_uri": "https://localhost:8080/"
        },
        "id": "TkDwvC80tb-T",
        "outputId": "d2dc1b29-4412-446c-9abe-78b05036443c"
      },
      "source": [
        "train_data = labels[:split]\n",
        "print(len(train_data))\n",
        "padded_tokenized_text = padded_tokenized_text[:split]\n",
        "print(len(padded_tokenized_text))"
      ],
      "execution_count": null,
      "outputs": [
        {
          "output_type": "stream",
          "text": [
            "99000\n",
            "99000\n"
          ],
          "name": "stdout"
        }
      ]
    },
    {
      "cell_type": "code",
      "metadata": {
        "id": "UDQWj3WuT-sG"
      },
      "source": [
        "def preprocess_image(image_id,label):\n",
        "    image = tf.io.read_file(image_id)                            \n",
        "    image = tf.image.decode_png(image,channels=1)\n",
        "    image = tf.image.convert_image_dtype(image, tf.float32)\n",
        "    image = tf.image.resize(image,size=[DIM[0],DIM[1]])\n",
        "    return image,label\n",
        "\n",
        "train_dataset = tf.data.Dataset.from_tensor_slices((train_data.image_id.values,padded_tokenized_text))\n",
        "#val_dataset = tf.data.Dataset.from_tensor_slices((val_data.image_id.values,padded_tokenized_text[split:]))\n",
        "train_dataset = train_dataset.map(preprocess_image,num_parallel_calls=tf.data.AUTOTUNE).shuffle(1000).batch(BATCH_SIZE).prefetch(tf.data.AUTOTUNE)\n",
        "\n"
      ],
      "execution_count": null,
      "outputs": []
    },
    {
      "cell_type": "code",
      "metadata": {
        "id": "uJ4qlgL5_0bB"
      },
      "source": [
        "class Attention(tf.keras.Model):\n",
        "    def __init__(self,rnn_units):\n",
        "        super(Attention,self).__init__()\n",
        "        self.W1 = L.Dense(rnn_units)\n",
        "        self.W2 = L.Dense(rnn_units)\n",
        "        self.V = L.Dense(1)\n",
        "\n",
        "    def call(self, features, hidden):\n",
        "        hidden_with_time_axis = tf.expand_dims(hidden,1)\n",
        "        attention_layer = (tf.nn.tanh(self.W1(features)+self.W2(hidden_with_time_axis)))\n",
        "        attention_score = self.V(attention_layer)\n",
        "\n",
        "        attention_weights = tf.nn.softmax(attention_score,axis=1)\n",
        "        context_vector = attention_weights*features\n",
        "        context_vector = tf.reduce_sum(context_vector,axis=1)\n",
        "\n",
        "        return context_vector,attention_weights\n",
        "\n",
        "class CNN_encoder(tf.keras.Model):\n",
        "    def __init__(self,input_dim,feature_dim,attention_feature_shape):\n",
        "        super(CNN_encoder,self).__init__()\n",
        "        # self.inp = L.Input(shape=(input_dim[0],input_dim[1],1))\n",
        "        self.batch_norm1 = L.BatchNormalization()\n",
        "        self.batch_norm2 = L.BatchNormalization()\n",
        "        self.batch_norm3 = L.BatchNormalization()\n",
        "        self.batch_norm4 = L.BatchNormalization()\n",
        "        self.batch_norm5 = L.BatchNormalization()\n",
        "        self.batch_norm6 = L.BatchNormalization()\n",
        "        self.actvt1 = L.Activation('relu')\n",
        "        self.actvt2 = L.Activation('relu')\n",
        "        self.actvt3 = L.Activation('relu')\n",
        "        self.actvt4 = L.Activation('relu')\n",
        "        self.actvt5 = L.Activation('relu')\n",
        "        self.actvt6 = L.Activation('relu')\n",
        "        self.actvt7 = L.Activation('relu')\n",
        "        self.max1 = L.MaxPooling2D()\n",
        "        self.max2 = L.MaxPooling2D()\n",
        "        self.max3 = L.MaxPooling2D()\n",
        "        self.dropout1 = L.Dropout(0.3)\n",
        "        self.dropout2 = L.Dropout(0.3)\n",
        "        self.dropout3 = L.Dropout(0.3)\n",
        "        self.conv2d1 = L.Conv2D(16,3)\n",
        "        self.conv2d2 = L.Conv2D(32,3)\n",
        "        self.conv2d3 = L.Conv2D(64,3)\n",
        "        self.conv2d4 = L.Conv2D(128,3)\n",
        "        self.conv2d5 = L.Conv2D(256,3)\n",
        "        self.conv2d6 = L.Conv2D(512,3)\n",
        "        self.reshape = L.Reshape(target_shape=[attention_feature_shape,feature_dim])\n",
        "        self.fc = L.Dense(embedding_dim)\n",
        "    \n",
        "    def call(self,input_image):\n",
        "         x = self.conv2d1(input_image)\n",
        "         x = self.batch_norm1(x)         \n",
        "         x = self.actvt1(x)\n",
        "         x = self.conv2d2(x)\n",
        "         x = self.batch_norm2(x)         \n",
        "         x = self.actvt2(x)\n",
        "         x = self.max1(x)\n",
        "         x = self.dropout1(x)\n",
        "         x = self.conv2d3(x)\n",
        "         x = self.batch_norm3(x)         \n",
        "         x = self.actvt3(x)\n",
        "         x = self.conv2d4(x)\n",
        "         x = self.batch_norm4(x)         \n",
        "         x = self.actvt4(x)\n",
        "         x = self.max2(x)\n",
        "         x = self.dropout2(x)\n",
        "         x = self.conv2d5(x)\n",
        "         x = self.batch_norm5(x)         \n",
        "         x = self.actvt5(x)\n",
        "         x = self.conv2d6(x)\n",
        "         x = self.batch_norm6(x)         \n",
        "         x = self.actvt6(x)\n",
        "         x = self.max3(x)\n",
        "         x = self.dropout3(x)\n",
        "         x = self.reshape(x)\n",
        "         x = self.fc(x)\n",
        "         x = self.actvt7(x)\n",
        "         return x\n",
        "\n",
        "class RNN_decoder(tf.keras.Model):\n",
        "    def __init__(self,rnn_units,vocab_size,embedding_dim):\n",
        "        super(RNN_decoder,self).__init__()\n",
        "        self.units = rnn_units\n",
        "        self.attention = Attention(self.units)\n",
        "        self.embedding = L.Embedding(input_dim = vocab_size,output_dim = embedding_dim)\n",
        "        self.gru = L.GRU(self.units,return_sequences=True, return_state=True,recurrent_initializer='glorot_uniform')\n",
        "        self.fc1 = L.Dense(self.units)\n",
        "        self.fc2 = L.Dense(vocab_size)\n",
        "        self.reshape = L.Reshape((-1,self.units))\n",
        "    def call(self,x,features,hidden):\n",
        "        context_vector,attention_weights = self.attention(features,hidden)\n",
        "        x = self.embedding(x)\n",
        "        x = tf.concat([tf.expand_dims(context_vector,1),x],axis=-1)\n",
        "        output,hidden = self.gru(x)\n",
        "        x = self.fc1(output)\n",
        "        x = self.reshape(x)\n",
        "        x = self.fc2(x)\n",
        "        return x, hidden,attention_weights\n",
        "\n",
        "    def reset_state(self,batch_size):\n",
        "        return tf.zeros((batch_size,self.units))"
      ],
      "execution_count": null,
      "outputs": []
    },
    {
      "cell_type": "code",
      "metadata": {
        "id": "vIMuy9WhMFte"
      },
      "source": [
        "encoder = CNN_encoder(DIM,features_dim,attention_feature_shape)\n",
        "decoder = RNN_decoder(rnn_units,vocab_size,embedding_dim)"
      ],
      "execution_count": null,
      "outputs": []
    },
    {
      "cell_type": "code",
      "metadata": {
        "id": "bLsHLSKwMumG"
      },
      "source": [
        "optimizer = O.Adam(learning_rate=1e-3)\n",
        "loss_object = Loss.SparseCategoricalCrossentropy(from_logits=True,reduction='none')\n",
        "\n",
        "def loss_function(real,pred):\n",
        "    mask = tf.math.logical_not(tf.math.equal(real,0))\n",
        "    loss = loss_object(real,pred)\n",
        "    mask = tf.cast(mask,dtype=loss.dtype)\n",
        "    loss *= mask\n",
        "    return tf.reduce_mean(loss)\n"
      ],
      "execution_count": null,
      "outputs": []
    },
    {
      "cell_type": "code",
      "metadata": {
        "id": "9GPfEoo5NYUN"
      },
      "source": [
        "checkpoint_path = \"/content/drive/MyDrive/bms-molecular-translation/checkpoints/train\"\n",
        "\n",
        "ckpt = tf.train.Checkpoint(encoder=encoder,\n",
        "                           decoder=decoder,\n",
        "                           optimizer=optimizer)\n",
        "\n",
        "ckpt_manager = tf.train.CheckpointManager(ckpt, checkpoint_path, max_to_keep=5)"
      ],
      "execution_count": null,
      "outputs": []
    },
    {
      "cell_type": "code",
      "metadata": {
        "id": "9Z7nW96iNsSm"
      },
      "source": [
        "start_epoch = 0\n",
        "if ckpt_manager.latest_checkpoint:\n",
        "  start_epoch = int(ckpt_manager.latest_checkpoint.split('-')[-1])\n",
        "  # restoring the latest checkpoint in checkpoint_path\n",
        "  ckpt.restore(ckpt_manager.latest_checkpoint)"
      ],
      "execution_count": null,
      "outputs": []
    },
    {
      "cell_type": "code",
      "metadata": {
        "id": "_7uQFHzANvbh"
      },
      "source": [
        "@tf.function\n",
        "def train_step(image_tensor,label):\n",
        "    loss = 0\n",
        "    hidden = decoder.reset_state(batch_size=label.shape[0])\n",
        "    decoder_input = tf.expand_dims([tokenizer.word_index['#']]*label.shape[0],1)\n",
        "    with tf.GradientTape() as tape:\n",
        "        features = encoder(image_tensor)\n",
        "        for i in range(1,label.shape[1]):\n",
        "            predictions, hidden ,_ = decoder(decoder_input,features,hidden)\n",
        "\n",
        "            loss += loss_function(label[:,i],predictions)\n",
        "            decoder_input = tf.expand_dims(label[:,i],1)\n",
        "\n",
        "    total_loss = (loss/int(label.shape[1]))\n",
        "    trainable_variables = encoder.trainable_variables + decoder.trainable_variables\n",
        "    gradients = tape.gradient(loss, trainable_variables)\n",
        "    optimizer.apply_gradients(zip(gradients, trainable_variables))\n",
        "    return loss, total_loss"
      ],
      "execution_count": null,
      "outputs": []
    },
    {
      "cell_type": "code",
      "metadata": {
        "colab": {
          "base_uri": "https://localhost:8080/"
        },
        "id": "xhUrDUl2bZHu",
        "outputId": "18032107-2148-4c0a-ed84-1a82f5046b10"
      },
      "source": [
        "padded_tokenized_text[0].shape"
      ],
      "execution_count": null,
      "outputs": [
        {
          "output_type": "execute_result",
          "data": {
            "text/plain": [
              "(396,)"
            ]
          },
          "metadata": {
            "tags": []
          },
          "execution_count": 31
        }
      ]
    },
    {
      "cell_type": "code",
      "metadata": {
        "id": "XpXzxPRNTgY_",
        "colab": {
          "base_uri": "https://localhost:8080/"
        },
        "outputId": "5c273576-e4d7-4d05-b9c8-29614c23130d"
      },
      "source": [
        "import time\n",
        "loss_plot = []\n",
        "for epoch in range(start_epoch, EPOCHS):\n",
        "    start = time.time()\n",
        "    total_loss = 0\n",
        " \n",
        "    for (batch, (img_tensor, target)) in enumerate(train_dataset):\n",
        "        batch_loss, t_loss = train_step(img_tensor, target)\n",
        "        total_loss += t_loss\n",
        " \n",
        "        if batch % 500 == 0:\n",
        "            average_batch_loss = batch_loss.numpy()/int(target.shape[1])\n",
        "            print(f'Epoch {epoch+1} Batch {batch} Loss {average_batch_loss:.4f}')\n",
        "    # storing the epoch end loss value to plot later\n",
        " \n",
        "    ckpt_manager.save()\n",
        " \n",
        "    loss_plot.append(total_loss / num_steps)\n",
        " \n",
        "    print(f'Epoch {epoch+1} Loss {total_loss/num_steps:.6f}')\n",
        "    print(f'Time taken for 1 epoch {time.time()-start:.2f} sec\\n')\n"
      ],
      "execution_count": null,
      "outputs": [
        {
          "output_type": "stream",
          "text": [
            "Epoch 1 Batch 0 Loss 1.0949\n",
            "Epoch 1 Batch 500 Loss 0.5034\n",
            "Epoch 1 Batch 1000 Loss 0.5179\n",
            "Epoch 1 Batch 1500 Loss 0.5053\n",
            "Epoch 1 Loss 0.503291\n",
            "Time taken for 1 epoch 2898.59 sec\n",
            "\n",
            "Epoch 2 Batch 0 Loss 0.5019\n",
            "Epoch 2 Batch 500 Loss 0.5097\n",
            "Epoch 2 Batch 1000 Loss 0.4825\n",
            "Epoch 2 Batch 1500 Loss 0.5039\n",
            "Epoch 2 Loss 0.495919\n",
            "Time taken for 1 epoch 1827.67 sec\n",
            "\n",
            "Epoch 3 Batch 0 Loss 0.4906\n",
            "Epoch 3 Batch 500 Loss 0.4539\n",
            "Epoch 3 Batch 1000 Loss 0.5439\n",
            "Epoch 3 Batch 1500 Loss 0.4813\n",
            "Epoch 3 Loss 0.495872\n",
            "Time taken for 1 epoch 1829.86 sec\n",
            "\n",
            "Epoch 4 Batch 0 Loss 0.5007\n",
            "Epoch 4 Batch 500 Loss 0.5323\n",
            "Epoch 4 Batch 1000 Loss 0.4871\n",
            "Epoch 4 Batch 1500 Loss 0.5095\n",
            "Epoch 4 Loss 0.495803\n",
            "Time taken for 1 epoch 1810.10 sec\n",
            "\n",
            "Epoch 5 Batch 0 Loss 0.5405\n",
            "Epoch 5 Batch 500 Loss 0.4998\n"
          ],
          "name": "stdout"
        }
      ]
    },
    {
      "cell_type": "code",
      "metadata": {
        "id": "RJ4Jq1vKN3f_"
      },
      "source": [
        "plt.plot(loss_plot)\n",
        "plt.xlabel('Epochs')\n",
        "plt.ylabel('Loss')\n",
        "plt.title('Loss Plot')\n",
        "plt.show()\n"
      ],
      "execution_count": null,
      "outputs": []
    },
    {
      "cell_type": "code",
      "metadata": {
        "id": "-KqAmchgOiKE"
      },
      "source": [
        "def preprocess_test_image(image_id):\n",
        "    image = tf.io.read_file(image_id)                            \n",
        "    image = tf.image.decode_png(image,channels=1)\n",
        "    image = tf.image.convert_image_dtype(image, tf.float32)\n",
        "    image = tf.image.resize(image,size=[DIM[0],DIM[1]])\n",
        "    return image\n",
        "\n",
        "def test_func(image_id):\n",
        "    attention_plot = np.zeros((max_len,attention_feature_shape))\n",
        "    image = preprocess_test_image(image_id)\n",
        "    image = tf.expand_dims(image,0)\n",
        "    features = encoder(image)\n",
        "    dec_input = tf.expand_dims([tokenizer.word_index['#']],0)\n",
        "    hidden = decoder.reset_state(batch_size=1)\n",
        "    result = []\n",
        "    for i in range(max_len):\n",
        "        predictions, hidden,attention_weights = decoder(dec_input,features,hidden)\n",
        "        attention_plot[i] = tf.reshape(attention_weights,(-1,)).numpy()\n",
        "        predicted_id = tf.random.categorical([predictions[0][0]],1).numpy()\n",
        "        result.append(tokenizer.index_word[int(predicted_id[0][0])])\n",
        "        if tokenizer.index_word[int(predicted_id[0][0])] == '$':\n",
        "            return result, attention_plot\n",
        "        dec_input = tf.expand_dims([predicted_id[0][0]],0)\n",
        "    attention_plot = attention_plot[:len(result),:]\n",
        "    return result, attention_plot\n"
      ],
      "execution_count": null,
      "outputs": []
    },
    {
      "cell_type": "code",
      "metadata": {
        "id": "YN6pv24UVUCW"
      },
      "source": [
        "def plot_attention(image, result, attention_plot):\n",
        "    temp_image = np.array(Image.open(image))\n",
        "\n",
        "    fig = plt.figure(figsize=(10, 10))\n",
        "\n",
        "    len_result = len(result)\n",
        "    for i in range(len_result):\n",
        "        temp_att = np.resize(attention_plot[i], (8, 8))\n",
        "        grid_size = max(np.ceil(len_result/2), 2)\n",
        "        ax = fig.add_subplot(grid_size, grid_size, i+1)\n",
        "        ax.set_title(result[i])\n",
        "        img = ax.imshow(temp_image)\n",
        "        ax.imshow(temp_att, cmap='gray', alpha=0.6, extent=img.get_extent())\n",
        "\n",
        "    plt.tight_layout()\n",
        "    plt.show()\n"
      ],
      "execution_count": null,
      "outputs": []
    },
    {
      "cell_type": "code",
      "metadata": {
        "id": "Sw1SaWdh4Hwq"
      },
      "source": [
        "def edit_dist_loss(y_true,y_pred):\n",
        "    y_true = tf.sparse.from_dense(y_true)\n",
        "    y_pred = tf.sparse.from_dense(y_pred)\n",
        "    loss = tf.edit_distance(y_true, y_pred,normalize=True)\n",
        "    return tf.reduce_mean(loss)"
      ],
      "execution_count": null,
      "outputs": []
    },
    {
      "cell_type": "code",
      "metadata": {
        "id": "HzsdnyZUVkQe"
      },
      "source": [
        "image_id = 99999\n",
        "image = labels.image_id.values[image_id]\n",
        "label = labels.InChI.values[image_id]\n",
        "\n",
        "result,attention_plot = test_func(image)\n",
        "\n",
        "print('Real InChI notation: ', label)\n",
        "print('Predicted InChI notation: ', ''.join(result))\n",
        "\n",
        "plot_attention(image,result,attention_plot)\n",
        "\n",
        "label_for_edit_dist = np.array([x for x in label])\n",
        "label_for_edit_dist = np.reshape(label_for_edit_dist,(label_for_edit_dist.shape[0],1))\n",
        "result_for_edit_dist = np.reshape(result,(len(result),1))\n",
        "print('Levenshtein Loss: ',edit_dist_loss(label_for_edit_dist,result_for_edit_dist))"
      ],
      "execution_count": null,
      "outputs": []
    },
    {
      "cell_type": "code",
      "metadata": {
        "id": "ez451c8MRcJL"
      },
      "source": [
        "def edit_dist_loss2(y_true,y_pred):\n",
        "    y_true = tf.math.argmax(y_true,axis=-1,output_type=tf.int32)\n",
        "    y_pred = tf.math.argmax(y_pred,axis=-1,output_type=tf.int32)\n",
        "    loss = tf.math.subtract(y_true,y_pred)\n",
        "    low = tf.less(0,loss)\n",
        "    high = tf.less(loss,0)\n",
        "    low = tf.cast(low,dtype=tf.int32)\n",
        "    high = tf.cast(high,dtype=tf.int32)\n",
        "    loss = tf.math.add(low,high)\n",
        "    loss = tf.cast(tf.reduce_sum(loss,axis=-1),dtype=tf.float32)\n",
        "    #loss = tf.cast(tf.reduce_mean(loss,keepdims=True),dtype=tf.float32)\n",
        "    return loss"
      ],
      "execution_count": null,
      "outputs": []
    },
    {
      "cell_type": "code",
      "metadata": {
        "id": "uD39q6DpqA68"
      },
      "source": [
        "def cnn_encoder(dim):\n",
        "    initializer = tf.keras.initializers.GlorotUniform()\n",
        "    encoder_inp = L.Input(shape=(dim[0],dim[1],1),name='encoder_input')\n",
        "    X = L.BatchNormalization(name='norm1')(encoder_inp)\n",
        "    X = L.Conv2D(16,3,name='Conv2d1')(X)\n",
        "    X = L.Activation('relu',name='relu1')(X)\n",
        "    X = L.Conv2D(32,3, name='Conv2d2')(X)\n",
        "    X = L.BatchNormalization(name='norm2')(X)\n",
        "    X = L.Activation('relu',name='relu2')(X)\n",
        "    X = L.MaxPooling2D(name='max1')(X)\n",
        "    X = L.Dropout(0.3)(X)\n",
        "    X = L.Conv2D(64,3,name='Conv2d3')(X)\n",
        "    X = L.BatchNormalization(name='norm3')(X)\n",
        "    X = L.Activation('relu',name='relu3')(X)\n",
        "    X = L.Conv2D(128,3,name='Conv2d4')(X)\n",
        "    X = L.BatchNormalization(name='norm4')(X)\n",
        "    X = L.Activation('relu',name='relu4')(X)\n",
        "    X = L.MaxPooling2D(name='max2')(X)\n",
        "    X = L.Dropout(0.3)(X)\n",
        "    X = L.Conv2D(256,3,name='Conv2d5')(X)\n",
        "    X = L.BatchNormalization(name='norm5')(X)\n",
        "    X = L.Activation('relu',name='relu5')(X)\n",
        "    X = L.Conv2D(512,3,name='Conv2d6')(X)\n",
        "    X = L.BatchNormalization(name='norm6')(X)\n",
        "    X = L.Activation('relu',name='relu6')(X)\n",
        "    X = L.MaxPooling2D(name='max3')(X)\n",
        "    X = L.Dropout(0.3)(X)\n",
        "    embedding = L.Reshape((-1,X.shape[3]),name='embed1')(X)\n",
        "    model = M.Model(inputs = encoder_inp,outputs=embedding)\n",
        "    model.compile(loss = 'mse',optimizer='adam')\n",
        "    return model\n",
        "\n",
        "model = build_second_model_1_0(DIM)\n",
        "model.summary()"
      ],
      "execution_count": null,
      "outputs": []
    },
    {
      "cell_type": "code",
      "metadata": {
        "id": "UcQjcLR6ALek"
      },
      "source": [
        "K.clear_session()"
      ],
      "execution_count": null,
      "outputs": []
    },
    {
      "cell_type": "code",
      "metadata": {
        "id": "mEB8v8vuCCnq"
      },
      "source": [
        "!unzip '/content/drive/MyDrive/bms-molecular-translation/sample_submission.csv.zip'"
      ],
      "execution_count": null,
      "outputs": []
    },
    {
      "cell_type": "code",
      "metadata": {
        "id": "74zKDWYKuob9"
      },
      "source": [
        "sampl = pd.read_csv('sample_submission.csv')"
      ],
      "execution_count": null,
      "outputs": []
    },
    {
      "cell_type": "code",
      "metadata": {
        "id": "SUg6b0GXuob9"
      },
      "source": [
        "test_path = 'test'\n",
        "for i in tqdm(range(len(sampl))):\n",
        "    image_id = sampl.image_id.values[i]\n",
        "    sampl.image_id.values[i] = test_path+'/'+image_id[0]+'/'+image_id[1]+'/'+image_id[2]+'/'+image_id+'.png'\n",
        "sampl.head()"
      ],
      "execution_count": null,
      "outputs": []
    },
    {
      "cell_type": "code",
      "metadata": {
        "colab": {
          "base_uri": "https://localhost:8080/",
          "height": 423
        },
        "id": "6QgkbvC8uob9",
        "outputId": "1d4556a9-0ea5-4884-f74e-2070d0b66ea8"
      },
      "source": [
        "sampl"
      ],
      "execution_count": null,
      "outputs": [
        {
          "output_type": "execute_result",
          "data": {
            "text/html": [
              "<div>\n",
              "<style scoped>\n",
              "    .dataframe tbody tr th:only-of-type {\n",
              "        vertical-align: middle;\n",
              "    }\n",
              "\n",
              "    .dataframe tbody tr th {\n",
              "        vertical-align: top;\n",
              "    }\n",
              "\n",
              "    .dataframe thead th {\n",
              "        text-align: right;\n",
              "    }\n",
              "</style>\n",
              "<table border=\"1\" class=\"dataframe\">\n",
              "  <thead>\n",
              "    <tr style=\"text-align: right;\">\n",
              "      <th></th>\n",
              "      <th>image_id</th>\n",
              "      <th>InChI</th>\n",
              "    </tr>\n",
              "  </thead>\n",
              "  <tbody>\n",
              "    <tr>\n",
              "      <th>0</th>\n",
              "      <td>test/0/0/0/00000d2a601c.png</td>\n",
              "      <td>InChI=1S/H2O/h1H2</td>\n",
              "    </tr>\n",
              "    <tr>\n",
              "      <th>1</th>\n",
              "      <td>test/0/0/0/00001f7fc849.png</td>\n",
              "      <td>InChI=1S/H2O/h1H2</td>\n",
              "    </tr>\n",
              "    <tr>\n",
              "      <th>2</th>\n",
              "      <td>test/0/0/0/000037687605.png</td>\n",
              "      <td>InChI=1S/H2O/h1H2</td>\n",
              "    </tr>\n",
              "    <tr>\n",
              "      <th>3</th>\n",
              "      <td>test/0/0/0/00004b6d55b6.png</td>\n",
              "      <td>InChI=1S/H2O/h1H2</td>\n",
              "    </tr>\n",
              "    <tr>\n",
              "      <th>4</th>\n",
              "      <td>test/0/0/0/00004df0fe53.png</td>\n",
              "      <td>InChI=1S/H2O/h1H2</td>\n",
              "    </tr>\n",
              "    <tr>\n",
              "      <th>...</th>\n",
              "      <td>...</td>\n",
              "      <td>...</td>\n",
              "    </tr>\n",
              "    <tr>\n",
              "      <th>1616102</th>\n",
              "      <td>test/f/f/f/ffffcdb2e39e.png</td>\n",
              "      <td>InChI=1S/H2O/h1H2</td>\n",
              "    </tr>\n",
              "    <tr>\n",
              "      <th>1616103</th>\n",
              "      <td>test/f/f/f/ffffcfddd770.png</td>\n",
              "      <td>InChI=1S/H2O/h1H2</td>\n",
              "    </tr>\n",
              "    <tr>\n",
              "      <th>1616104</th>\n",
              "      <td>test/f/f/f/ffffe4ab06b2.png</td>\n",
              "      <td>InChI=1S/H2O/h1H2</td>\n",
              "    </tr>\n",
              "    <tr>\n",
              "      <th>1616105</th>\n",
              "      <td>test/f/f/f/ffffec4033ec.png</td>\n",
              "      <td>InChI=1S/H2O/h1H2</td>\n",
              "    </tr>\n",
              "    <tr>\n",
              "      <th>1616106</th>\n",
              "      <td>test/f/f/f/fffffbebd4f5.png</td>\n",
              "      <td>InChI=1S/H2O/h1H2</td>\n",
              "    </tr>\n",
              "  </tbody>\n",
              "</table>\n",
              "<p>1616107 rows × 2 columns</p>\n",
              "</div>"
            ],
            "text/plain": [
              "                            image_id              InChI\n",
              "0        test/0/0/0/00000d2a601c.png  InChI=1S/H2O/h1H2\n",
              "1        test/0/0/0/00001f7fc849.png  InChI=1S/H2O/h1H2\n",
              "2        test/0/0/0/000037687605.png  InChI=1S/H2O/h1H2\n",
              "3        test/0/0/0/00004b6d55b6.png  InChI=1S/H2O/h1H2\n",
              "4        test/0/0/0/00004df0fe53.png  InChI=1S/H2O/h1H2\n",
              "...                              ...                ...\n",
              "1616102  test/f/f/f/ffffcdb2e39e.png  InChI=1S/H2O/h1H2\n",
              "1616103  test/f/f/f/ffffcfddd770.png  InChI=1S/H2O/h1H2\n",
              "1616104  test/f/f/f/ffffe4ab06b2.png  InChI=1S/H2O/h1H2\n",
              "1616105  test/f/f/f/ffffec4033ec.png  InChI=1S/H2O/h1H2\n",
              "1616106  test/f/f/f/fffffbebd4f5.png  InChI=1S/H2O/h1H2\n",
              "\n",
              "[1616107 rows x 2 columns]"
            ]
          },
          "metadata": {
            "tags": []
          },
          "execution_count": 31
        }
      ]
    },
    {
      "cell_type": "code",
      "metadata": {
        "id": "4VRb7MCaS0VH"
      },
      "source": [
        "#model = M.load_model('/content/drive/MyDrive/bms-molecular-translation/Models/phase1-base-model-47-0.7992.hdf5')"
      ],
      "execution_count": null,
      "outputs": []
    },
    {
      "cell_type": "code",
      "metadata": {
        "colab": {
          "base_uri": "https://localhost:8080/"
        },
        "id": "oSwW1Somuob-",
        "outputId": "b019fc88-ab76-48a5-990c-db55cda476d9"
      },
      "source": [
        "def detokenize(pred):\n",
        "    string_d = []\n",
        "    for i in range(len(pred)):\n",
        "        a = []\n",
        "        for j in range(len(pred[i])):\n",
        "            if pred[i][j] in detokens3.keys():\n",
        "                a.append(detokens3[pred[i][j]])\n",
        "            else:\n",
        "                a.append(str(pred[i][j]-47))\n",
        "        a = \"\".join(a)\n",
        "        string_d.append(a)\n",
        "    return string_d\n",
        "\n",
        "for i in range(2):\n",
        "    test_data = tf.data.Dataset.from_tensor_slices(labels.image_id.values[:10]).map(preprocess_test_image,num_parallel_calls=tf.data.AUTOTUNE).batch(10,drop_remainder=True).prefetch(tf.data.AUTOTUNE)\n",
        "    pred = model.predict(test_data,verbose=1)\n",
        "    #pred = tf.random.uniform(shape=[len(sampl)//100,MAX_LENGTH,vocab])\n",
        "    pred = tf.argmax(pred,axis=-1)\n",
        "    pred = np.array(pred)\n",
        "    pred = detokenize(pred)\n",
        "    pred = np.char.strip(pred,chars='$')\n",
        "    labels.InChI.values[:10] = pred\n",
        "    "
      ],
      "execution_count": null,
      "outputs": [
        {
          "output_type": "stream",
          "text": [
            "1/1 [==============================] - 14s 14s/step\n",
            "1/1 [==============================] - 12s 12s/step\n"
          ],
          "name": "stdout"
        }
      ]
    },
    {
      "cell_type": "code",
      "metadata": {
        "colab": {
          "base_uri": "https://localhost:8080/"
        },
        "id": "OVUxhox6QtPb",
        "outputId": "afa53715-ef0e-4442-f2f2-041203212a40"
      },
      "source": [
        "pred"
      ],
      "execution_count": null,
      "outputs": [
        {
          "output_type": "execute_result",
          "data": {
            "text/plain": [
              "array(['111111111111,,,,,,,,', '111111111111,,,,,,,,,,',\n",
              "       '1111111111111,,,,,,,,', '1111111111111,,,,,,',\n",
              "       '1111111111111,,,,,,,,,,,', '11111111111,,,,,,,,',\n",
              "       '1111111111111,,,,,,,', '1111111111111,,,,,,,,,,',\n",
              "       '1111111111111,,,,,,,,,', '111111111111,,,,,,,,,'], dtype='<U192')"
            ]
          },
          "metadata": {
            "tags": []
          },
          "execution_count": 40
        }
      ]
    },
    {
      "cell_type": "code",
      "metadata": {
        "colab": {
          "base_uri": "https://localhost:8080/",
          "height": 424
        },
        "id": "Ye3sh3JPRXKm",
        "outputId": "a84f867e-baa0-4adf-8130-81dc8c514c24"
      },
      "source": [
        "labels"
      ],
      "execution_count": null,
      "outputs": [
        {
          "output_type": "execute_result",
          "data": {
            "text/html": [
              "<div>\n",
              "<style scoped>\n",
              "    .dataframe tbody tr th:only-of-type {\n",
              "        vertical-align: middle;\n",
              "    }\n",
              "\n",
              "    .dataframe tbody tr th {\n",
              "        vertical-align: top;\n",
              "    }\n",
              "\n",
              "    .dataframe thead th {\n",
              "        text-align: right;\n",
              "    }\n",
              "</style>\n",
              "<table border=\"1\" class=\"dataframe\">\n",
              "  <thead>\n",
              "    <tr style=\"text-align: right;\">\n",
              "      <th></th>\n",
              "      <th>image_id</th>\n",
              "      <th>InChI</th>\n",
              "    </tr>\n",
              "  </thead>\n",
              "  <tbody>\n",
              "    <tr>\n",
              "      <th>0</th>\n",
              "      <td>train/0/0/0/000011a64c74.png</td>\n",
              "      <td>111111111111,,,,,,,,</td>\n",
              "    </tr>\n",
              "    <tr>\n",
              "      <th>1</th>\n",
              "      <td>train/0/0/0/000019cc0cd2.png</td>\n",
              "      <td>111111111111,,,,,,,,,,</td>\n",
              "    </tr>\n",
              "    <tr>\n",
              "      <th>2</th>\n",
              "      <td>train/0/0/0/0000252b6d2b.png</td>\n",
              "      <td>1111111111111,,,,,,,,</td>\n",
              "    </tr>\n",
              "    <tr>\n",
              "      <th>3</th>\n",
              "      <td>train/0/0/0/000026b49b7e.png</td>\n",
              "      <td>1111111111111,,,,,,</td>\n",
              "    </tr>\n",
              "    <tr>\n",
              "      <th>4</th>\n",
              "      <td>train/0/0/0/000026fc6c36.png</td>\n",
              "      <td>1111111111111,,,,,,,,,,,</td>\n",
              "    </tr>\n",
              "    <tr>\n",
              "      <th>...</th>\n",
              "      <td>...</td>\n",
              "      <td>...</td>\n",
              "    </tr>\n",
              "    <tr>\n",
              "      <th>2424181</th>\n",
              "      <td>train/f/f/f/ffffe824f539.png</td>\n",
              "      <td>h2,10H,3-4,13H2,1H3,(H,15,16)$$$$$$$$$$$$$$$$$...</td>\n",
              "    </tr>\n",
              "    <tr>\n",
              "      <th>2424182</th>\n",
              "      <td>train/f/f/f/ffffea1ebdfa.png</td>\n",
              "      <td>h3-4,7,9-10,26H,5-6,8H2,1-2H3,(H,22,27)(H,23,2...</td>\n",
              "    </tr>\n",
              "    <tr>\n",
              "      <th>2424183</th>\n",
              "      <td>train/f/f/f/ffffee2b4534.png</td>\n",
              "      <td>h2-4,6,8-10,17H,5,7,11-15H2,1H3,(H,25,27)$$$$$...</td>\n",
              "    </tr>\n",
              "    <tr>\n",
              "      <th>2424184</th>\n",
              "      <td>train/f/f/f/fffff0b6eea6.png</td>\n",
              "      <td>h4-5,12-13H,3,6-11,18H2,1-2H3$$$$$$$$$$$$$$$$$...</td>\n",
              "    </tr>\n",
              "    <tr>\n",
              "      <th>2424185</th>\n",
              "      <td>train/f/f/f/fffff608dd38.png</td>\n",
              "      <td>h4,11,13H,2-3,5-6H2,1H3,(H2,14,15,16)(H2,17,18...</td>\n",
              "    </tr>\n",
              "  </tbody>\n",
              "</table>\n",
              "<p>2424186 rows × 2 columns</p>\n",
              "</div>"
            ],
            "text/plain": [
              "                             image_id                                              InChI\n",
              "0        train/0/0/0/000011a64c74.png                               111111111111,,,,,,,,\n",
              "1        train/0/0/0/000019cc0cd2.png                             111111111111,,,,,,,,,,\n",
              "2        train/0/0/0/0000252b6d2b.png                              1111111111111,,,,,,,,\n",
              "3        train/0/0/0/000026b49b7e.png                                1111111111111,,,,,,\n",
              "4        train/0/0/0/000026fc6c36.png                           1111111111111,,,,,,,,,,,\n",
              "...                               ...                                                ...\n",
              "2424181  train/f/f/f/ffffe824f539.png  h2,10H,3-4,13H2,1H3,(H,15,16)$$$$$$$$$$$$$$$$$...\n",
              "2424182  train/f/f/f/ffffea1ebdfa.png  h3-4,7,9-10,26H,5-6,8H2,1-2H3,(H,22,27)(H,23,2...\n",
              "2424183  train/f/f/f/ffffee2b4534.png  h2-4,6,8-10,17H,5,7,11-15H2,1H3,(H,25,27)$$$$$...\n",
              "2424184  train/f/f/f/fffff0b6eea6.png  h4-5,12-13H,3,6-11,18H2,1-2H3$$$$$$$$$$$$$$$$$...\n",
              "2424185  train/f/f/f/fffff608dd38.png  h4,11,13H,2-3,5-6H2,1H3,(H2,14,15,16)(H2,17,18...\n",
              "\n",
              "[2424186 rows x 2 columns]"
            ]
          },
          "metadata": {
            "tags": []
          },
          "execution_count": 41
        }
      ]
    },
    {
      "cell_type": "code",
      "metadata": {
        "colab": {
          "base_uri": "https://localhost:8080/",
          "height": 287
        },
        "id": "W0lD4M2dRaaG",
        "outputId": "42494474-4314-4b6e-d2d7-5e8cb8cb57b0"
      },
      "source": [
        "img = cv2.imread(labels.image_id.values[0],cv2.IMREAD_GRAYSCALE)\n",
        "plt.imshow(img)\n",
        "plt.title(labels.InChI.values[0])"
      ],
      "execution_count": null,
      "outputs": [
        {
          "output_type": "execute_result",
          "data": {
            "text/plain": [
              "Text(0.5, 1.0, '')"
            ]
          },
          "metadata": {
            "tags": []
          },
          "execution_count": 50
        },
        {
          "output_type": "display_data",
          "data": {
            "image/png": "[encoded data removed]",
            "text/plain": [
              "<Figure size 432x288 with 1 Axes>"
            ]
          },
          "metadata": {
            "tags": []
          }
        }
      ]
    },
    {
      "cell_type": "code",
      "metadata": {
        "id": "0zh6k2dPuob-"
      },
      "source": [
        "#test_data = tf.data.Dataset.from_tensor_slices(sampl.image_id.values[:len(sampl)//2]).map(preprocess_test_image,num_parallel_calls=tf.data.AUTOTUNE).batch(BATCH_SIZE,drop_remainder=True).prefetch(tf.data.AUTOTUNE)"
      ],
      "execution_count": null,
      "outputs": []
    },
    {
      "cell_type": "code",
      "metadata": {
        "id": "USM4WzHkuob_"
      },
      "source": [
        "#pred = model.predict(test_data,verbose=1)"
      ],
      "execution_count": null,
      "outputs": []
    },
    {
      "cell_type": "code",
      "metadata": {
        "id": "2qL6L0RCuob_"
      },
      "source": [
        "#pred"
      ],
      "execution_count": null,
      "outputs": []
    },
    {
      "cell_type": "markdown",
      "metadata": {
        "id": "KXPk9BQeuob_"
      },
      "source": [
        "def detokenize(pred):\n",
        "    string_d = []\n",
        "    for i in range(len(pred)):\n",
        "        a = []\n",
        "        for j in range(len(pred[i])):\n",
        "            if pred[i][j] in detokens.keys():\n",
        "                a.append(detokens[pred[i][j]])\n",
        "            else:\n",
        "                a.append(str(pred[i][j]-47))\n",
        "        a = \"\".join(a)\n",
        "        string_d.append(a)\n",
        "    return string_d"
      ]
    },
    {
      "cell_type": "code",
      "metadata": {
        "id": "2h3T9KJzuocA"
      },
      "source": [
        "#pred = tf.argmax(pred,axis=-1)\n",
        "#pred = np.array(pred)"
      ],
      "execution_count": null,
      "outputs": []
    },
    {
      "cell_type": "code",
      "metadata": {
        "id": "yv1fR7S1uocA"
      },
      "source": [
        "#pred = detokenize(pred)"
      ],
      "execution_count": null,
      "outputs": []
    },
    {
      "cell_type": "code",
      "metadata": {
        "id": "1XzBjtE_uocA"
      },
      "source": [
        "#pred = np.char.strip(pred,chars='$')"
      ],
      "execution_count": null,
      "outputs": []
    },
    {
      "cell_type": "code",
      "metadata": {
        "id": "kQ4_f3zYuocB"
      },
      "source": [
        "#sampl.InChI.values = pred"
      ],
      "execution_count": null,
      "outputs": []
    },
    {
      "cell_type": "code",
      "metadata": {
        "id": "du1ss5ISuocB"
      },
      "source": [
        "#test_data = tf.data.Dataset.from_tensor_slices(sampl.image_id.values[len(sampl)//2:]).map(preprocess_test_image,num_parallel_calls=tf.data.AUTOTUNE).batch(BATCH_SIZE,drop_remainder=True).prefetch(tf.data.AUTOTUNE)\n",
        "#pred = model.predict(test_data,verbose=1)"
      ],
      "execution_count": null,
      "outputs": []
    },
    {
      "cell_type": "code",
      "metadata": {
        "id": "ed82DkewuocB"
      },
      "source": [
        "sampl.to_csv('submission.csv',index=False)"
      ],
      "execution_count": null,
      "outputs": []
    },
    {
      "cell_type": "code",
      "metadata": {
        "id": "A2n0XhD_uocB"
      },
      "source": [
        ""
      ],
      "execution_count": null,
      "outputs": []
    }
  ]
}